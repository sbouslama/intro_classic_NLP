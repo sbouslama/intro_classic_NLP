{
 "cells": [
  {
   "cell_type": "code",
   "execution_count": 1,
   "metadata": {},
   "outputs": [
    {
     "name": "stdout",
     "output_type": "stream",
     "text": [
      "showing info https://raw.githubusercontent.com/nltk/nltk_data/gh-pages/index.xml\n"
     ]
    },
    {
     "data": {
      "text/plain": [
       "True"
      ]
     },
     "execution_count": 1,
     "metadata": {},
     "output_type": "execute_result"
    }
   ],
   "source": [
    "import nltk \n",
    "nltk.download()"
   ]
  },
  {
   "cell_type": "code",
   "execution_count": 1,
   "metadata": {},
   "outputs": [
    {
     "name": "stdout",
     "output_type": "stream",
     "text": [
      "('trainDataAccuracy', 0.9241542092840284)\n",
      "('testDataAccuracy', 0.8426683448709881)\n",
      "('name:', 'david', 'classified as:', 'male')\n",
      "('name:', 'sirine', 'classified as:', 'female')\n",
      "('name:', 'marwa', 'classified as:', 'female')\n",
      "('name:', 'ahmed', 'classified as:', 'male')\n"
     ]
    }
   ],
   "source": [
    "import nltk \n",
    "names=[(name,'male') for name in nltk.corpus.names.words(\"male.txt\")]\n",
    "names+=[(name,'female') for name in nltk.corpus.names.words(\"female.txt\")]\n",
    "def exctract_gender_features(name):\n",
    "    name=name.lower()\n",
    "    features={}\n",
    "    features[\"suffix\"]=name[-1:]\n",
    "    features[\"suffix2\"]=name[-2:] if len(name)>1 else name[0]\n",
    "    features[\"suffix3\"]=name[-3:] if len(name)>2 else name[0]\n",
    "    features[\"prefixe\"]=name[:1] \n",
    "    features[\"prefixe2\"]=name[:2] if len(name)>1 else name[0]\n",
    "    features[\"prefixe3\"]=name[:3] if len(name)>2 else name[0]\n",
    "    features[\"prefixe4\"]=name[:4] if len(name)>3 else name[0]\n",
    "    features[\"prefixe5\"]=name[:5] if len(name)>4 else name[0]\n",
    "    features[\"length\"]=len(name)\n",
    "    return features\n",
    "\n",
    "data=[(exctract_gender_features(name),gender) for (name,gender) in names]\n",
    "import random\n",
    "random.shuffle(data)\n",
    "#print(data[:10])\n",
    "datacount=len(data)\n",
    "traincount=int(.8*datacount)\n",
    "traindata=data[:traincount]   \n",
    "testdata=data[traincount:]\n",
    "bayes=nltk.NaiveBayesClassifier.train(traindata)\n",
    "def classify(name):\n",
    "    label= bayes.classify(exctract_gender_features(name))\n",
    "    print(\"name:\",name,\"classified as:\",label)\n",
    "\n",
    "print(\"trainDataAccuracy\",nltk.classify.accuracy(bayes,traindata))\n",
    "print(\"testDataAccuracy\",nltk.classify.accuracy(bayes,testdata))\n",
    "\n",
    "classify(\"david\")\n",
    "classify('sirine')\n",
    "classify('marwa')\n",
    "classify('ahmed')"
   ]
  }
 ],
 "metadata": {
  "kernelspec": {
   "display_name": "Python 2",
   "language": "python",
   "name": "python2"
  },
  "language_info": {
   "codemirror_mode": {
    "name": "ipython",
    "version": 2
   },
   "file_extension": ".py",
   "mimetype": "text/x-python",
   "name": "python",
   "nbconvert_exporter": "python",
   "pygments_lexer": "ipython2",
   "version": "2.7.14"
  }
 },
 "nbformat": 4,
 "nbformat_minor": 2
}
